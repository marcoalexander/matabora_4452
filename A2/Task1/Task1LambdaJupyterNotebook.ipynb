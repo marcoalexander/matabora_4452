{
 "cells": [
  {
   "cell_type": "code",
   "execution_count": 20,
   "id": "5cd47120",
   "metadata": {},
   "outputs": [],
   "source": [
    "import boto3\n",
    "import json"
   ]
  },
  {
   "cell_type": "code",
   "execution_count": 21,
   "id": "5288719a",
   "metadata": {},
   "outputs": [],
   "source": [
    "lambdaClient = boto3.client('lambda')"
   ]
  },
  {
   "cell_type": "code",
   "execution_count": 22,
   "id": "26ba2db7",
   "metadata": {},
   "outputs": [],
   "source": [
    "event = {'invokerName':'Marcos Desktop'}\n",
    "response = lambdaClient.invoke(FunctionName='arn:aws:lambda:us-east-1:382456265645:function:Task1Function', Payload = json.dumps(event))"
   ]
  },
  {
   "cell_type": "code",
   "execution_count": 23,
   "id": "1641a110",
   "metadata": {},
   "outputs": [
    {
     "data": {
      "text/plain": [
       "b'{\"statusCode\": 200, \"body\": \"\\\\\"Hello from Lambda! event is: {\\\\\\\\\\\\\"invokerName\\\\\\\\\\\\\": \\\\\\\\\\\\\"Marcos Desktop\\\\\\\\\\\\\"}and the ip address is: 3.90.236.242\\\\\\\\n\\\\\"\"}'"
      ]
     },
     "execution_count": 23,
     "metadata": {},
     "output_type": "execute_result"
    }
   ],
   "source": [
    "response['Payload'].read()"
   ]
  },
  {
   "cell_type": "code",
   "execution_count": null,
   "id": "ef56021c",
   "metadata": {},
   "outputs": [],
   "source": []
  }
 ],
 "metadata": {
  "kernelspec": {
   "display_name": "Python 3 (ipykernel)",
   "language": "python",
   "name": "python3"
  },
  "language_info": {
   "codemirror_mode": {
    "name": "ipython",
    "version": 3
   },
   "file_extension": ".py",
   "mimetype": "text/x-python",
   "name": "python",
   "nbconvert_exporter": "python",
   "pygments_lexer": "ipython3",
   "version": "3.10.4"
  }
 },
 "nbformat": 4,
 "nbformat_minor": 5
}
