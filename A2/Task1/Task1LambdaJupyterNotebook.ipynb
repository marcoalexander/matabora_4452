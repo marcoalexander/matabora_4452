{
 "cells": [
  {
   "cell_type": "code",
   "execution_count": 46,
   "id": "5cd47120",
   "metadata": {},
   "outputs": [],
   "source": [
    "import boto3\n",
    "import json\n",
    "import time"
   ]
  },
  {
   "cell_type": "code",
   "execution_count": 49,
   "id": "5288719a",
   "metadata": {},
   "outputs": [],
   "source": [
    "lambdaClient = boto3.client('lambda')"
   ]
  },
  {
   "cell_type": "code",
   "execution_count": 51,
   "id": "26ba2db7",
   "metadata": {},
   "outputs": [
    {
     "name": "stdout",
     "output_type": "stream",
     "text": [
      "The time of execution of for iteration: 1 is:  267.6382064819336 ms\n",
      "The time of execution of for iteration: 2 is:  249.43971633911133 ms\n",
      "The time of execution of for iteration: 3 is:  264.21165466308594 ms\n",
      "The time of execution of for iteration: 4 is:  252.89368629455566 ms\n",
      "The time of execution of for iteration: 5 is:  247.5261688232422 ms\n",
      "The time of execution of for iteration: 6 is:  256.8376064300537 ms\n",
      "The time of execution of for iteration: 7 is:  244.27056312561035 ms\n",
      "The time of execution of for iteration: 8 is:  235.3193759918213 ms\n",
      "The time of execution of for iteration: 9 is:  232.6338291168213 ms\n",
      "The time of execution of for iteration: 10 is:  251.36709213256836 ms\n"
     ]
    }
   ],
   "source": [
    "\n",
    "iterations = [1,2,3,4,5,6,7,8,9,10]\n",
    "for val in iterations:\n",
    "    event = {'invokerName':'Marcos Desktop' + str(val)}\n",
    "    time.sleep(10.0)\n",
    "    start = time.time()\n",
    "    response = lambdaClient.invoke(FunctionName='arn:aws:lambda:us-east-1:382456265645:function:Task1Function', InvocationType = 'Event', Payload = json.dumps(event))\n",
    "    end = time.time()\n",
    "    print(\"The time of execution of for iteration: \" + str(val) + \" is: \",\n",
    "          (end-start) * 10**3, \"ms\")"
   ]
  },
  {
   "cell_type": "code",
   "execution_count": 45,
   "id": "1641a110",
   "metadata": {},
   "outputs": [
    {
     "data": {
      "text/plain": [
       "b''"
      ]
     },
     "execution_count": 45,
     "metadata": {},
     "output_type": "execute_result"
    }
   ],
   "source": [
    "response['Payload'].read()"
   ]
  },
  {
   "cell_type": "code",
   "execution_count": null,
   "id": "ef56021c",
   "metadata": {},
   "outputs": [],
   "source": []
  }
 ],
 "metadata": {
  "kernelspec": {
   "display_name": "Python 3 (ipykernel)",
   "language": "python",
   "name": "python3"
  },
  "language_info": {
   "codemirror_mode": {
    "name": "ipython",
    "version": 3
   },
   "file_extension": ".py",
   "mimetype": "text/x-python",
   "name": "python",
   "nbconvert_exporter": "python",
   "pygments_lexer": "ipython3",
   "version": "3.10.4"
  }
 },
 "nbformat": 4,
 "nbformat_minor": 5
}
